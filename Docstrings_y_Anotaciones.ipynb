{
  "nbformat": 4,
  "nbformat_minor": 0,
  "metadata": {
    "colab": {
      "name": "Docstrings y Anotaciones.ipynb",
      "provenance": [],
      "collapsed_sections": [],
      "authorship_tag": "ABX9TyNj3TO2BTodNxVbcU3Go7mD",
      "include_colab_link": true
    },
    "kernelspec": {
      "name": "python3",
      "display_name": "Python 3"
    },
    "language_info": {
      "name": "python"
    }
  },
  "cells": [
    {
      "cell_type": "markdown",
      "metadata": {
        "id": "view-in-github",
        "colab_type": "text"
      },
      "source": [
        "<a href=\"https://colab.research.google.com/github/alfredoaguiararce/clean_code_python/blob/main/Docstrings_y_Anotaciones.ipynb\" target=\"_parent\"><img src=\"https://colab.research.google.com/assets/colab-badge.svg\" alt=\"Open In Colab\"/></a>"
      ]
    },
    {
      "cell_type": "markdown",
      "metadata": {
        "id": "5txqsbMiX-y7"
      },
      "source": [
        "# Docstrings y anotaciones.\n",
        "\n",
        "\n",
        "El buen código se debería explica solo, pero también este debería estar bien documentado. A medida que programamos siempre es una buena práctica explicar que se supone que debe hacer nuestro código y que no.\n",
        "\n",
        "> 💡 Documentar nuestro código no es lo mismo que agregar comentarios en él.\n",
        "\n",
        "Por documentación, nos referimos al hecho de explicar el tipo de datos, agregar ejemplos y anotaciones de las variables.\n",
        "\n",
        "Esto es relevante en Python, ya que, al ser de tipado dinámico, es fácil perder el valor de variables u objetos a través del flujo del programa.\n",
        "\n",
        "Otra razón para documentar nuestro código, que se relaciona específicamente con las anotaciones. Es que pueden ayudar en ejecutar algunas comprobaciones automáticas.\n",
        "\n",
        "\n",
        "\n",
        "\n",
        "\n"
      ]
    },
    {
      "cell_type": "markdown",
      "metadata": {
        "id": "0oHoIxpyc0BY"
      },
      "source": [
        "## Docstrings\n",
        "\n",
        "En términos simples, podemos decir que los *docstrings* son básicamente documentación incrustada en el\n",
        "código fuente. \n",
        "\n",
        "> 💡 Un *docstring* es básicamente una cadena literal, colocada en algún lugar del código, con la intención de documentar esa parte de la lógica.\n",
        "\n",
        "Note el énfasis en la palabra *documentación*. Es importante porque se pretende representar una explicación, no una justificación. Los *docstrings* no son comentarios; son documentación.\n"
      ]
    },
    {
      "cell_type": "markdown",
      "metadata": {
        "id": "kaTo7GOnGfGO"
      },
      "source": [
        "Por ejemplo documentar la entrada esperada y la salida de una función es una buena práctica que ayudará a los lectores de esa función a comprender cómo se supone que funciona.\n",
        "\n",
        "Por ejemplo en la linea de codigo siguiente:"
      ]
    },
    {
      "cell_type": "code",
      "metadata": {
        "id": "dI9iicg4ODYv"
      },
      "source": [
        "dict.update??"
      ],
      "execution_count": null,
      "outputs": []
    },
    {
      "cell_type": "markdown",
      "metadata": {
        "id": "jdV978wTHK7y"
      },
      "source": [
        "Aquí, el *docstring* para el método *update* en los diccionarios nos da información muy útil, y nos dice que podemos usarla en diferentes formas.\n",
        "\n",
        "\n",
        "\n",
        "1.   Podemos pasar algo con un método *.keys()* (por ejemplo, otro\n",
        "diccionario), y actualizará el diccionario original con las claves del\n",
        "objeto pasado por parámetro:\n"
      ]
    },
    {
      "cell_type": "code",
      "metadata": {
        "colab": {
          "base_uri": "https://localhost:8080/"
        },
        "id": "9UGH_H5BIGE2",
        "outputId": "d87f27e8-ba34-47a9-bce7-ac88eef4ac20"
      },
      "source": [
        "d = {}\n",
        "d.update({1: \"one\", 2: \"two\"})\n",
        "print(d)"
      ],
      "execution_count": null,
      "outputs": [
        {
          "output_type": "stream",
          "name": "stdout",
          "text": [
            "{1: 'one', 2: 'two'}\n"
          ]
        }
      ]
    },
    {
      "cell_type": "markdown",
      "metadata": {
        "id": "SoJ41r8hIW1O"
      },
      "source": [
        "2.   Podemos pasar un iterable de pares de claves y valores, y los descomprimiremos al\n",
        "actualizar:\n"
      ]
    },
    {
      "cell_type": "code",
      "metadata": {
        "colab": {
          "base_uri": "https://localhost:8080/"
        },
        "id": "PMJEW7HpIWNL",
        "outputId": "b998e689-3368-4201-c0ce-2c0868ac3409"
      },
      "source": [
        "d.update([(3, \"three\"), (4, \"four\")])\n",
        "print(d)"
      ],
      "execution_count": null,
      "outputs": [
        {
          "output_type": "stream",
          "name": "stdout",
          "text": [
            "{1: 'one', 2: 'two', 3: 'three', 4: 'four'}\n"
          ]
        }
      ]
    },
    {
      "cell_type": "markdown",
      "metadata": {
        "id": "afVOcHZqJEl_"
      },
      "source": [
        "En cualquier caso, el diccionario se actualizará con el resto de argumentos pasados.\n",
        "\n",
        "Esta información es crucial para alguien que tiene que aprender y comprender cómo una nueva función trabaja.\n"
      ]
    },
    {
      "cell_type": "markdown",
      "metadata": {
        "id": "vmhMfmtfYHN8"
      },
      "source": [
        "## Anotaciones.\n",
        "\n",
        "La idea básica detrás de las anotaciones es dar una idea a los lectores de el código, sobre que valores espera recibir una función.\n",
        "\n",
        "> Las anotaciones permiten especificar el tipo esperado de algunas variables que se han definido. \n",
        "\n",
        "Por ejemplo, en el siguiente código:\n"
      ]
    },
    {
      "cell_type": "code",
      "metadata": {
        "id": "im3IJDikdIjw"
      },
      "source": [
        "class Punto:\n",
        "\n",
        "  def __init__(self, latitud, longitud):\n",
        "    self.latitud = latitud\n",
        "    self.longitud = longitud\n",
        "\n",
        "def localizar(latitud: float, longitud: float) -> Punto:\n",
        "  \"\"\"Encontrar un objeto en el mapa, dadas sus coordenadas\"\"\""
      ],
      "execution_count": 1,
      "outputs": []
    },
    {
      "cell_type": "markdown",
      "metadata": {
        "id": "Gpygko4UZm_J"
      },
      "source": [
        "Aquí, nosotros usamos *float* para indicar el tipo de dato esperado para latitud y longitud. Esto es con fines informativos únicamente.\n",
        "\n",
        "> 💡 Python no comprobará estos tipos ni los aplicará.\n",
        "\n",
        "También podemos especificar el tipo esperado del valor devuelto de la función. En este caso, *Punto* es una clase definida por el usuario, por lo que significará que lo que se devuelva será una instancia de *Punto*.\n",
        "\n",
        "Sin embargo, los tipos o incorporados no son el único tipo de cosas que podemos usar como anotaciones. Básicamente, todo lo que sea válido en el ámbito del intérprete de Python actual podría ser\n",
        "colocado allí. \n",
        "\n",
        "Por ejemplo, una cadena que explica la intención de la variable, un invocable para ser se utiliza como función de devolución de llamada o validación, etc.\n",
        "\n",
        "Con la introducción de anotaciones, también se incluye un nuevo atributo especial: \n",
        "\n",
        "> *__annotations_* nos dará acceso a un diccionario que mapea el nombre de las anotaciones (como claves en el diccionario) con sus valores correspondientes, que son los que han definido para ellos. \n",
        "\n",
        "Así de esta manera en nuestro ejemplo, se verá así:\n"
      ]
    },
    {
      "cell_type": "code",
      "metadata": {
        "colab": {
          "base_uri": "https://localhost:8080/"
        },
        "id": "d3IX355-dsVW",
        "outputId": "90601a63-840b-436d-8a19-cfa15bb977eb"
      },
      "source": [
        "localizar.__annotations__"
      ],
      "execution_count": null,
      "outputs": [
        {
          "output_type": "execute_result",
          "data": {
            "text/plain": [
              "{'latitud': float, 'longitud': float, 'return': __main__.Punto}"
            ]
          },
          "metadata": {},
          "execution_count": 10
        }
      ]
    },
    {
      "cell_type": "markdown",
      "metadata": {
        "id": "_kIuRLh3cNo2"
      },
      "source": [
        "Adicionalmente a partir de *Python 3.6*, es posible anotar variables directamente,\n",
        "no solo parámetros de función y tipos de retorno. \n",
        "\n",
        "La idea es que puede declarar los tipos de algunas variables definidas sin necesariamente asignándoles un valor, como se muestra en el siguiente listado:"
      ]
    },
    {
      "cell_type": "code",
      "metadata": {
        "id": "G11zRagTeIsN"
      },
      "source": [
        "class Punto:\n",
        "  \n",
        "  latitud : float\n",
        "  longitud : float\n",
        "\n",
        "  def __init__(self, latitud, longitud):\n",
        "    self.latitud = latitud\n",
        "    self.longitud = longitud\n",
        "\n",
        "\n",
        "def localizar(latitud: float, longitud: float) -> Punto:\n",
        "  \"\"\"Encontrar un objeto en el mapa, dadas sus coordenadas\"\"\""
      ],
      "execution_count": null,
      "outputs": []
    },
    {
      "cell_type": "code",
      "metadata": {
        "colab": {
          "base_uri": "https://localhost:8080/"
        },
        "id": "5fYzScKSeQZm",
        "outputId": "fd5c5cca-a6ab-4584-8b94-1afe8ff6c38a"
      },
      "source": [
        "Punto.__annotations__"
      ],
      "execution_count": null,
      "outputs": [
        {
          "output_type": "execute_result",
          "data": {
            "text/plain": [
              "{'latitud': float, 'longitud': float}"
            ]
          },
          "metadata": {},
          "execution_count": 13
        }
      ]
    },
    {
      "cell_type": "markdown",
      "metadata": {
        "id": "bjuniF04b7KP"
      },
      "source": [
        "La idea básica detrás de esto es que ahora la semántica se extiende a conceptos más significativos,\n",
        "haciendo que sea aún más fácil para nosotros (los humanos) entender qué significa el código, o qué es\n",
        "esperado en un punto dado. \n"
      ]
    },
    {
      "cell_type": "markdown",
      "metadata": {
        "id": "CyKJgC-aaDp9"
      },
      "source": [
        "> 📚 Bibliografia: *Clean Code in Python*, Mariano Anaya.\n",
        "\n"
      ]
    }
  ]
}